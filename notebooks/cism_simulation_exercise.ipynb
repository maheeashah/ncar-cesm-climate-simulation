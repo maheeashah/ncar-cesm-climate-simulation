{
 "cells": [
  {
   "cell_type": "code",
   "execution_count": null,
   "id": "1f1eabdb-5a09-4bad-b3e7-5656491dc69e",
   "metadata": {},
   "outputs": [],
   "source": [
    "# CISM Ice Sheet Surface Simulation - Exercise\n",
    "\n",
    "This notebook replicates a simplified version of the NCAR CESM Tutorial Exercise 2 using simulated surface height data. The goal is to generate and visualize the ice sheet surface profile based on simple quadratic behavior.\n",
    "\n",
    "Author: Mahee Shah\n"
   ]
  },
  {
   "cell_type": "code",
   "execution_count": 1,
   "id": "a6e11f12-a2d6-4ff8-bdcb-bc52dd40baf0",
   "metadata": {},
   "outputs": [
    {
     "ename": "ModuleNotFoundError",
     "evalue": "No module named 'numpy'",
     "output_type": "error",
     "traceback": [
      "\u001b[31m---------------------------------------------------------------------------\u001b[39m",
      "\u001b[31mModuleNotFoundError\u001b[39m                       Traceback (most recent call last)",
      "\u001b[36mCell\u001b[39m\u001b[36m \u001b[39m\u001b[32mIn[1]\u001b[39m\u001b[32m, line 2\u001b[39m\n\u001b[32m      1\u001b[39m \u001b[38;5;66;03m# Import required libraries\u001b[39;00m\n\u001b[32m----> \u001b[39m\u001b[32m2\u001b[39m \u001b[38;5;28;01mimport\u001b[39;00m\u001b[38;5;250m \u001b[39m\u001b[34;01mnumpy\u001b[39;00m\u001b[38;5;250m \u001b[39m\u001b[38;5;28;01mas\u001b[39;00m\u001b[38;5;250m \u001b[39m\u001b[34;01mnp\u001b[39;00m\n\u001b[32m      3\u001b[39m \u001b[38;5;28;01mimport\u001b[39;00m\u001b[38;5;250m \u001b[39m\u001b[34;01mmatplotlib\u001b[39;00m\u001b[34;01m.\u001b[39;00m\u001b[34;01mpyplot\u001b[39;00m\u001b[38;5;250m \u001b[39m\u001b[38;5;28;01mas\u001b[39;00m\u001b[38;5;250m \u001b[39m\u001b[34;01mplt\u001b[39;00m\n\u001b[32m      4\u001b[39m \u001b[38;5;28;01mimport\u001b[39;00m\u001b[38;5;250m \u001b[39m\u001b[34;01mos\u001b[39;00m\n",
      "\u001b[31mModuleNotFoundError\u001b[39m: No module named 'numpy'"
     ]
    }
   ],
   "source": [
    "# Import required libraries\n",
    "import numpy as np\n",
    "import matplotlib.pyplot as plt\n",
    "import os\n",
    "\n",
    "# Generate example surface data\n",
    "x = np.linspace(0, 100, 500)  # Distance across the ice sheet (km)\n",
    "surface_height = 1000 - (x**2 / 500)  # Simple parabolic surface (m)\n",
    "\n",
    "# Plotting\n",
    "plt.figure(figsize=(8,5))\n",
    "plt.plot(x, surface_height, label='Surface Height Profile')\n",
    "plt.xlabel('Distance Across Ice Sheet (km)')\n",
    "plt.ylabel('Surface Height (meters)')\n",
    "plt.title('Simulated Ice Sheet Surface')\n",
    "plt.legend()\n",
    "plt.grid(True)\n",
    "\n",
    "# Create images directory if not exists\n",
    "if not os.path.exists('../images'):\n",
    "    os.makedirs('../images')\n",
    "\n",
    "# Save the figure\n",
    "plt.savefig('../images/ice_sheet_profile.png')\n",
    "plt.show()\n"
   ]
  },
  {
   "cell_type": "code",
   "execution_count": null,
   "id": "ba8cd2e7-aeba-4c50-b2c2-c0c62b6220e8",
   "metadata": {},
   "outputs": [],
   "source": []
  }
 ],
 "metadata": {
  "kernelspec": {
   "display_name": "Python 3 (ipykernel)",
   "language": "python",
   "name": "python3"
  },
  "language_info": {
   "codemirror_mode": {
    "name": "ipython",
    "version": 3
   },
   "file_extension": ".py",
   "mimetype": "text/x-python",
   "name": "python",
   "nbconvert_exporter": "python",
   "pygments_lexer": "ipython3",
   "version": "3.12.3"
  }
 },
 "nbformat": 4,
 "nbformat_minor": 5
}
